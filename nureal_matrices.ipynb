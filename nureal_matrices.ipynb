{
  "cells": [
    {
      "cell_type": "markdown",
      "metadata": {
        "id": "xxjIi4--amCf"
      },
      "source": [
        "# **Tutorial 04: Gradient descent, Matrices and MLP**\n",
        "**Module:** Deep Neural Networks and Learning Systems\n",
        "\n",
        "\n",
        "---\n",
        "\n",
        "\n",
        "**Objectives:**\n",
        "\n",
        " - Explain the process of gradient descent\n",
        " - Conceptualize vector and matrices operations, and derivatives.\n",
        " - Interpret the MLP in context"
      ]
    },
    {
      "cell_type": "code",
      "execution_count": 2,
      "metadata": {
        "id": "YGCdk5NTavjj"
      },
      "outputs": [],
      "source": [
        "import numpy as np\n",
        "import matplotlib.pyplot as plt"
      ]
    },
    {
      "cell_type": "code",
      "execution_count": 4,
      "metadata": {},
      "outputs": [
        {
          "name": "stdout",
          "output_type": "stream",
          "text": [
            "[[1 0 0]\n",
            " [0 1 0]\n",
            " [0 0 1]]\n",
            "(3, 3)\n",
            "3\n",
            "3\n",
            "Input: [1 2 3]\n",
            "Output: [1 2 3]\n"
          ]
        }
      ],
      "source": [
        "X= np.array([1,0]) #not a matrix\n",
        "X = np.reshape(X, (2,1)) #reshape into a matrix\n",
        "W = np.array([[1,0,0], [0,1,0],[0,0,1]])\n",
        "# W = np.eye(3) #identify matrix 3*3, square matrix\n",
        "# W = np.diag(W) #diagonal matrix\n",
        "\n",
        "\n",
        "\n",
        "print(W)\n",
        "print(W.shape)\n",
        "print(np.linalg.matrix_rank(W))\n",
        "print(np.trace(W))\n",
        "#multiply\n",
        "X= np.array ([1,2,3])\n",
        "y= W*X #this is not a matrix multiplication\n",
        "y= np.dot(W,X) #this is a matrix multiplication\n",
        "print(f\"Input: {X}\")\n",
        "print(f\"Output: {y}\")\n",
        "\n",
        "\n"
      ]
    },
    {
      "cell_type": "code",
      "execution_count": 28,
      "metadata": {},
      "outputs": [
        {
          "data": {
            "text/plain": [
              "[<matplotlib.lines.Line2D at 0x26849143df0>]"
            ]
          },
          "execution_count": 28,
          "metadata": {},
          "output_type": "execute_result"
        },
        {
          "data": {
            "image/png": "[encoded data removed]",
            "text/plain": [
              "<Figure size 640x480 with 1 Axes>"
            ]
          },
          "metadata": {},
          "output_type": "display_data"
        }
      ],
      "source": [
        "# x = np.array([1,0])\n",
        "angle = np.sqrt(2)/2\n",
        "R= np.array([[np.cos(angle), -np.sin(angle)], \n",
        "             [np.sin(angle), np.cos(angle)]])\n",
        "\n",
        "S= np.array([[2,0], [0,1]])\n",
        "F= np.array([[-1,0], [0,1]])\n",
        "\n",
        "# W = F\n",
        "# W= S\n",
        "W = S.dot(F.dot(R))\n",
        "x= np.array([1,0])\n",
        "y= W.dot(x)\n",
        "neural = np.maximum(0,y)\n",
        "plt.plot([-2, 2], [0,0], 'k--') #plotting x axis\n",
        "plt.plot([0,0], [-2, 2], 'k--') #plotting y axis\n",
        "plt.plot([0,x[0]], [0,x[1]], 'r', linewidth=2) #plotting x vector\n",
        "plt.plot([0,y[0]], [0,y[1]], 'b', linewidth=2) #plotting y vector\n",
        "plt.plot([0,neural[0]], [0,neural[1]], 'g', linewidth=2) #plotting neural vector\n"
      ]
    },
    {
      "cell_type": "markdown",
      "metadata": {
        "id": "Hb6Sm7n71L0G"
      },
      "source": [
        "## 1. Implementing linear regression\n",
        "\n",
        "First, let's learn a **regression** model to fit some random data that we generate. The simplest model we can you is a linear one:\n",
        "$$ y = ax + b$$"
      ]
    },
    {
      "cell_type": "code",
      "execution_count": 3,
      "metadata": {
        "colab": {
          "base_uri": "https://localhost:8080/",
          "height": 484
        },
        "id": "ZwcRJzXLzHmf",
        "outputId": "4b6dfcf9-2059-42c5-f4f2-368a8206c6ee"
      },
      "outputs": [
        {
          "data": {
            "text/plain": [
              "(np.float64(-5.0), np.float64(5.0), np.float64(-25.0), np.float64(25.0))"
            ]
          },
          "execution_count": 3,
          "metadata": {},
          "output_type": "execute_result"
        },
        {
          "data": {
            "image/png": "[encoded data removed]",
            "text/plain": [
              "<Figure size 640x480 with 1 Axes>"
            ]
          },
          "metadata": {},
          "output_type": "display_data"
        }
      ],
      "source": [
        "# We know the parameters of our model\n",
        "a = 3.5\n",
        "b = -0.5\n",
        "\n",
        "sdx = 2\n",
        "x = sdx*np.random.randn(100) # Generate 100 samples from a gaussian distribution with standard deviation 2\n",
        "noise_level = 4.1\n",
        "e = noise_level*np.random.randn(len(x)) # Generate some noise (also randomly distributed with stardard deviation 4.1)\n",
        "y = a*x + b + e # Generate values according to our model\n",
        "\n",
        "dataset = np.array([x, y]) # Create our dataset\n",
        "\n",
        "plt.plot(dataset[0,:], dataset[1,:], '.')\n",
        "plt.xlabel('x')\n",
        "plt.ylabel('y')\n",
        "plt.axis([-5, 5, -25, 25]) # This fix the size of the axes"
      ]
    },
    {
      "cell_type": "markdown",
      "metadata": {
        "id": "SZqo1xdJj5j7"
      },
      "source": [
        "Take a look at the previous code and make sure you understand all of it. Make small changes to the different parameters and see how the plot changes. We have just created a dataset to train out model with. Remember that a dataset is a set of pairs:\n",
        "$(x_i, y_i)$\n",
        "\n",
        "**Note:** To generate the data we assume that we know $a$ and $b$. But for training we will forget about them\n",
        "\n",
        "\n",
        "---\n",
        "\n",
        "*Exercise:* Plot the model for different values of $a$ and $b$ along with the data. Remember, the plot should be a line:"
      ]
    },
    {
      "cell_type": "code",
      "execution_count": null,
      "metadata": {
        "id": "zbV9UW90kfRa"
      },
      "outputs": [],
      "source": [
        "# Choose a, b\n",
        "\n",
        "# plot the dataset again\n",
        "\n",
        "# plot the line y = ax + b (tip, remember to use np.linspace)"
      ]
    },
    {
      "cell_type": "markdown",
      "metadata": {
        "id": "fY81xgm8l4yL"
      },
      "source": [
        "**Training our model**\n",
        "Now we need to find the values of $a$ and $b$ that best fit the model to our data. Remember that we forgot about the correct values. We will do that by minimizing the *Loss function*:\n",
        "\n",
        "$$ \\mathcal{L}( a, b ) =  \\sum_i (\\hat{y}_i - y_i)^2 $$\n",
        "\n",
        "by replacing $\\hat{y}_i$ with our model, we get:\n",
        "\n",
        "$$ \\mathcal{L}( a, b ) =  \\sum_i (a x_i + b  - y_i)^2 $$\n",
        "\n",
        "This is the *least squares loss*. If we store our parameters in a vector $\\mathbf{w} = (a, b)^T$, the problem we need to solve is finding:\n",
        "\n",
        "$$ \\hat{\\mathbf{w}} = \\underset{\\mathbf{w}}{\\arg\\min} = \\mathcal{L}(\\mathbf{w})$$\n",
        "Which can be read as: Finding the set of parameters $\\mathbf{w}$ such that the loss is minimum (Make sure this makes sense to you)"
      ]
    },
    {
      "cell_type": "code",
      "execution_count": null,
      "metadata": {
        "colab": {
          "base_uri": "https://localhost:8080/"
        },
        "id": "BTbdNm73n7O4",
        "outputId": "3718ed82-8c54-4569-c72f-5b5f7194ced3"
      },
      "outputs": [
        {
          "name": "stdout",
          "output_type": "stream",
          "text": [
            "The loss for w = [-2  1] is 134.12927829210912\n"
          ]
        }
      ],
      "source": [
        "y = dataset[1, :] # first we take the y values from our dataset (the true values)\n",
        "x = dataset[0, :] # Then the x values we want to use our model with\n",
        "n = len(x)\n",
        "Loss = lambda w: np.sum( (w[0]*x + w[1] - y)**2)/n\n",
        "\n",
        "# Let's pick a w at random:\n",
        "w = np.array([-2, 1])\n",
        "\n",
        "print(f\"The loss for w = {w} is {Loss(w)}\") # Test other values"
      ]
    },
    {
      "cell_type": "markdown",
      "metadata": {
        "id": "N4iaf-31v3c3"
      },
      "source": [
        "*Excercise (advanced)* Plot the 3D plot of the Loss for different conbinations of $w_0$ and $w_1$."
      ]
    },
    {
      "cell_type": "code",
      "execution_count": null,
      "metadata": {
        "colab": {
          "base_uri": "https://localhost:8080/",
          "height": 211
        },
        "id": "KWx3dV9yn7ME",
        "outputId": "9c592876-88a3-4d4e-c5fd-4b2bfb3ec529"
      },
      "outputs": [
        {
          "ename": "NameError",
          "evalue": "name 'plt' is not defined",
          "output_type": "error",
          "traceback": [
            "\u001b[0;31m---------------------------------------------------------------------------\u001b[0m",
            "\u001b[0;31mNameError\u001b[0m                                 Traceback (most recent call last)",
            "\u001b[0;32m<ipython-input-1-60124bd38d48>\u001b[0m in \u001b[0;36m<cell line: 3>\u001b[0;34m()\u001b[0m\n\u001b[1;32m      1\u001b[0m \u001b[0;31m# It is important to see how the function looks in this simple two dimensional case:\u001b[0m\u001b[0;34m\u001b[0m\u001b[0;34m\u001b[0m\u001b[0m\n\u001b[1;32m      2\u001b[0m \u001b[0;34m\u001b[0m\u001b[0m\n\u001b[0;32m----> 3\u001b[0;31m \u001b[0mfig\u001b[0m\u001b[0;34m,\u001b[0m \u001b[0max\u001b[0m \u001b[0;34m=\u001b[0m \u001b[0mplt\u001b[0m\u001b[0;34m.\u001b[0m\u001b[0msubplots\u001b[0m\u001b[0;34m(\u001b[0m\u001b[0msubplot_kw\u001b[0m\u001b[0;34m=\u001b[0m\u001b[0;34m{\u001b[0m\u001b[0;34m\"projection\"\u001b[0m\u001b[0;34m:\u001b[0m \u001b[0;34m\"3d\"\u001b[0m\u001b[0;34m}\u001b[0m\u001b[0;34m)\u001b[0m \u001b[0;31m# We need to tell matplotlib that the projection needed is 3D\u001b[0m\u001b[0;34m\u001b[0m\u001b[0;34m\u001b[0m\u001b[0m\n\u001b[0m\u001b[1;32m      4\u001b[0m \u001b[0;34m\u001b[0m\u001b[0m\n\u001b[1;32m      5\u001b[0m \u001b[0;31m# Make a data grid of possible values for the weights\u001b[0m\u001b[0;34m\u001b[0m\u001b[0;34m\u001b[0m\u001b[0m\n",
            "\u001b[0;31mNameError\u001b[0m: name 'plt' is not defined"
          ]
        }
      ],
      "source": []
    },
    {
      "cell_type": "markdown",
      "metadata": {
        "id": "lrGcv4_fwJyp"
      },
      "source": [
        "Now we can train our loss with gradient descent. We first compute the derivative of the loss function. We need to compute two partial derivatives because we have two parameters:\n",
        "$$\\frac{\\partial \\mathcal{L}}{\\partial w_0} = 2\\sum_i x_i(w_0 x_i + w_1 - y_i)$$\n",
        "and\n",
        "$$\\frac{\\partial \\mathcal{L}}{\\partial w_1} = 2\\sum_i (w_0 x_i + w_1 - y_i)$$\n",
        "\n",
        "Check this!\n",
        "\n",
        "So the direction of gradient descent is:\n",
        "\n",
        "$$\\nabla \\mathcal{L}(\\mathbf{w}) = -\\left(\\frac{\\partial \\mathcal{L}}{\\partial w_0}, \\frac{\\partial \\mathcal{L}}{\\partial w_1}\\right)^T$$"
      ]
    },
    {
      "cell_type": "code",
      "execution_count": null,
      "metadata": {
        "colab": {
          "base_uri": "https://localhost:8080/",
          "height": 452
        },
        "id": "oG_VeVeex3wG",
        "outputId": "78e773a4-a39c-4431-a268-7ed587c37ca0"
      },
      "outputs": [
        {
          "data": {
            "text/plain": [
              "[<matplotlib.lines.Line2D at 0x79b81e74df00>]"
            ]
          },
          "execution_count": 36,
          "metadata": {},
          "output_type": "execute_result"
        },
        {
          "data": {
            "image/png": "[encoded data removed]",
            "text/plain": [
              "<Figure size 640x480 with 1 Axes>"
            ]
          },
          "metadata": {},
          "output_type": "display_data"
        }
      ],
      "source": [
        "# Gradient descent: Start from a initial guess\n",
        "w = np.array([-2, 1])\n",
        "# Pick a learning rate\n",
        "learning_rate = 0.05\n",
        "\n",
        "# Define the partial derivatives as functions\n",
        "partial_w0 = lambda w: 2*np.sum( x*(w[0]*x + w[1] - y) )/n # Note the elementwise multiplication!\n",
        "partial_w1 = lambda w: 2*np.sum( w[0]*x + w[1] - y )/n\n",
        "\n",
        "num_iterations = 50\n",
        "loss_history = np.zeros(num_iterations)\n",
        "\n",
        "for i in range(num_iterations):\n",
        "  loss_history[i] = Loss(w)\n",
        "\n",
        "  # pick the direction\n",
        "  gradient = np.array([partial_w0(w), partial_w1(w)])\n",
        "  dir = -gradient\n",
        "\n",
        "  # update\n",
        "  w = w + learning_rate*dir\n",
        "\n",
        "#plot the loss\n",
        "plt.plot(loss_history)"
      ]
    },
    {
      "cell_type": "markdown",
      "metadata": {
        "id": "zlpcdP0D2oy7"
      },
      "source": [
        "Print the learned parameters. How do they compare with our original parameters?\n",
        "\n",
        "*Exercise* Try decreasing and increasing the noise in the original data. Try different starting points. How does it affect our loss?\n",
        "\n",
        "*Exercise:* Plot the data and the fitted model, how good is the fit?\n",
        "\n",
        "*Exercise (Advanced)* Do a *contour plot* of the loss and plot the path of the weights as we do gradient descent."
      ]
    },
    {
      "cell_type": "markdown",
      "metadata": {
        "id": "EMzjzrkT1QdB"
      },
      "source": [
        "## 2. Logisting regression\n",
        "\n",
        "\n"
      ]
    },
    {
      "cell_type": "markdown",
      "metadata": {
        "id": "hSPvcjCe4N2L"
      },
      "source": [
        "Now, let's give an example of a *classification* task. The simplest model for such problems is *logistic regression*. In this case we, again have a set of pairs $(x_i, y_i)^T$ but in this case, we iterpret $y_i$ as a binary variable:\n",
        "$y_i = 1$ if $x_i$ belongs to class $1$ or $y_i = 0$ otherwise.\n",
        "\n",
        "So our model's job is output the **the probability that example $x_i$ belongs to class 1 or class_2**. We call this probabilit the conditional probability of $y_i = 1$ **given** $x_i$.\n",
        "\n",
        "$$p(y_i = 1 | x_i)$$\n",
        "\n",
        "In order to compute this probability, we start by computing the **logits**:\n",
        "\n",
        "$$z_i = \\mathbf{w}^Tx_i + \\mathbf{b}$$\n",
        "\n",
        "Then, we compute the probability using the logits:\n",
        "\n",
        "$$p(y_i = 1 | x_i) = \\sigma(z_i) = \\frac{1}{1 + \\exp(-z_i)}$$\n",
        "\n",
        "Where $\\sigma(x)$ is the sigmoid function we have seen before.\n",
        "\n",
        "The other probability is $p(y_i = 0 | x_i) = 1 - \\sigma(z_i)$ (compute a mathematical definition for this).\n",
        "\n"
      ]
    },
    {
      "cell_type": "code",
      "execution_count": null,
      "metadata": {
        "colab": {
          "base_uri": "https://localhost:8080/",
          "height": 466
        },
        "id": "jUBzG1Pm1q-b",
        "outputId": "b1c54af3-2162-43d6-ed69-f9299d77368a"
      },
      "outputs": [
        {
          "data": {
            "text/plain": [
              "Text(0, 0.5, 'x[1]')"
            ]
          },
          "execution_count": 47,
          "metadata": {},
          "output_type": "execute_result"
        },
        {
          "data": {
            "image/png": "[encoded data removed]",
            "text/plain": [
              "<Figure size 640x480 with 1 Axes>"
            ]
          },
          "metadata": {},
          "output_type": "display_data"
        }
      ],
      "source": [
        "# Start by simulating some data for class 1\n",
        "N = 100\n",
        "mean1 = np.array([[1, 1]]).T\n",
        "x1 = np.random.randn(2, N//2) + mean1\n",
        "y1 = np.zeros(x1.shape[1])\n",
        "\n",
        "mean2 = -mean1\n",
        "x2 = np.random.randn(2, N//2) + mean2\n",
        "y2 = np.ones(x2.shape[1])\n",
        "\n",
        "# store in a datset\n",
        "dataset = np.hstack((x1, x2))\n",
        "labels = np.hstack((y1, y2))\n",
        "\n",
        "plt.plot( x1[0,:], x1[1, :], 'r.')\n",
        "plt.plot( x2[0,:], x2[1, :], 'b.')\n",
        "plt.xlabel('x[0]')\n",
        "plt.ylabel('x[1]')"
      ]
    },
    {
      "cell_type": "markdown",
      "metadata": {
        "id": "P24o9vxJBFOm"
      },
      "source": [
        "Make sure you understand the generation process and the functions involved. Change things and print shapes if you are in doubt. Let's now compute some probabilities:"
      ]
    },
    {
      "cell_type": "code",
      "execution_count": null,
      "metadata": {
        "colab": {
          "base_uri": "https://localhost:8080/"
        },
        "id": "g_PkdkrsBgCh",
        "outputId": "d3c69737-2c4f-4b9c-b3f6-ced893167c69"
      },
      "outputs": [
        {
          "name": "stdout",
          "output_type": "stream",
          "text": [
            "The predicted probability P(y = 1|x) for x = [3.02842779 2.27481631] is 0.9971354501339733\n",
            "The predicted probability P(y = 0|x) for x = [3.02842779 2.27481631] is 0.002864549866026689\n",
            "The actual class is: 0.0\n"
          ]
        }
      ],
      "source": [
        "w = np.array([0.1, 2])\n",
        "b = 1\n",
        "\n",
        "logit = lambda x: w.dot(x) + b\n",
        "sigmoid = lambda x: 1/(1 + np.exp(-logit(x)))\n",
        "\n",
        "randomInd = 10\n",
        "x = dataset[:, randomInd] # pick a random datapoint\n",
        "print( f'The predicted probability P(y = 1|x) for x = {x} is {sigmoid(x)}')\n",
        "print( f'The predicted probability P(y = 0|x) for x = {x} is {1 - sigmoid(x)}')\n",
        "print( f'The actual class is: {labels[randomInd]}')"
      ]
    },
    {
      "cell_type": "markdown",
      "metadata": {
        "id": "Q_1qeEstCiWy"
      },
      "source": [
        "*Exercise* Make a plot like the previous one but coloring each datapoint with the predicted class after choosing some **decision threshold**. Say, if $p(y|x) > 0.5$, then class is $1$"
      ]
    },
    {
      "cell_type": "code",
      "execution_count": null,
      "metadata": {
        "id": "QYMM6GL4C46w"
      },
      "outputs": [],
      "source": [
        "# Your code"
      ]
    },
    {
      "cell_type": "markdown",
      "metadata": {
        "id": "dKsAWBh9C63J"
      },
      "source": [
        "**Learning the weights**\n",
        "We need a loss to apply gradient descent. This loss for a particular preditiction will be given by the cross entropy loss:\n",
        "\n",
        "$$\\mathcal{L}(y, \\hat{y}) = -\\log p(y|x) = -[y\\log \\hat{y} + (1+y)\\log(1 - \\hat{y})]$$\n",
        "\n",
        "Where $\\hat{y} = \\sigma(\\mathbf{w}x + b)$\n",
        "\n",
        "The total loss is:\n",
        "\n",
        "$$\\mathcal{L}(\\mathbf{\\theta}) = \\frac{1}{n}\\sum_i \\mathcal{L}(y_i, \\hat{y}_i)$$\n",
        "\n",
        "*Exercise*\n",
        "Compute the gradient and do gradient descent to learn a logistic model of our data.\n"
      ]
    },
    {
      "cell_type": "code",
      "execution_count": null,
      "metadata": {
        "id": "Pms8ql-x125U"
      },
      "outputs": [],
      "source": []
    }
  ],
  "metadata": {
    "colab": {
      "provenance": []
    },
    "kernelspec": {
      "display_name": "matrices",
      "language": "python",
      "name": "python3"
    },
    "language_info": {
      "codemirror_mode": {
        "name": "ipython",
        "version": 3
      },
      "file_extension": ".py",
      "mimetype": "text/x-python",
      "name": "python",
      "nbconvert_exporter": "python",
      "pygments_lexer": "ipython3",
      "version": "3.10.1"
    }
  },
  "nbformat": 4,
  "nbformat_minor": 0
}
